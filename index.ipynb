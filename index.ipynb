{
 "cells": [
  {
   "cell_type": "markdown",
   "metadata": {},
   "source": [
    "# Deploying a Model with Dash"
   ]
  },
  {
   "cell_type": "markdown",
   "metadata": {},
   "source": [
    "## Introduction\n",
    "\n",
    "In addition to allowing you to create complex dynamic web pages using Python code, Dash is \"the most downloaded, trusted framework for building machine learning web apps in Python\" ([source](https://plotly.com/building-machine-learning-web-apps-in-python/)). Let's build one of those machine learning web apps!"
   ]
  },
  {
   "cell_type": "markdown",
   "metadata": {},
   "source": [
    "## Objectives\n",
    "\n",
    "In this lesson you will:\n",
    "\n",
    "* Combine Flask and Dash apps to serve API responses as well as dynamic web pages\n",
    "* Incorporate machine learning predictions into a Dash app\n",
    "* Deploy a machine learning dashboard using Dash and Heroku"
   ]
  },
  {
   "cell_type": "markdown",
   "metadata": {},
   "source": [
    "Clone this lesson locally so you can follow along using your local `dash-env`.\n",
    "\n",
    "## Combining Flask and Dash\n",
    "\n",
    "We previously mentioned that Dash is built on top of Flask. Specifically, when the Dash app is instantiated, an underlying Flask app is created by default.\n",
    "\n",
    "If we want to customize the behavior of the underlying Flask app, we can actually instantiate it separately, then pass it in as an argument when we instantiate the Dash app.\n",
    "\n",
    "Below is a simple \"Hello, World!\" example where the Flask and Dash apps have been combined in this way:"
   ]
  },
  {
   "cell_type": "code",
   "execution_count": 12,
   "metadata": {
    "ExecuteTime": {
     "end_time": "2022-12-29T17:42:34.541328Z",
     "start_time": "2022-12-29T17:42:34.520337Z"
    }
   },
   "outputs": [],
   "source": [
    "from jupyter_dash import JupyterDash as Dash\n",
    "from dash import html \n",
    "from flask import Flask\n",
    "\n",
    "# create a new flask app\n",
    "flask_app = Flask(__name__)\n",
    "# create a new dash app built on that flask app\n",
    "dash_app = Dash(__name__, server=flask_app)\n",
    "\n",
    "# set the layout to include a single <p> tag containing \"Hello, World!\"\n",
    "dash_app.layout = html.P(\"Hello, World!\")"
   ]
  },
  {
   "cell_type": "code",
   "execution_count": 13,
   "metadata": {
    "ExecuteTime": {
     "end_time": "2022-12-29T17:42:36.762851Z",
     "start_time": "2022-12-29T17:42:36.396366Z"
    }
   },
   "outputs": [
    {
     "data": {
      "text/html": [
       "\n",
       "        <iframe\n",
       "            width=\"100%\"\n",
       "            height=\"150\"\n",
       "            src=\"http://localhost:5000/\"\n",
       "            frameborder=\"0\"\n",
       "            allowfullscreen\n",
       "            \n",
       "        ></iframe>\n",
       "        "
      ],
      "text/plain": [
       "<IPython.lib.display.IFrame at 0x7ff351206e80>"
      ]
     },
     "metadata": {},
     "output_type": "display_data"
    }
   ],
   "source": [
    "import warnings\n",
    "warnings.filterwarnings('ignore')\n",
    "\n",
    "#del dash_app.config._read_only[\"requests_pathname_prefix\"] (needed with jupyter dash 0.4.0)\n",
    "dash_app.run_server(mode=\"inline\", height=150, host=\"localhost\", port=5000)"
   ]
  },
  {
   "cell_type": "markdown",
   "metadata": {},
   "source": [
    "So far, this works identically to our \"Hello, World!\" Dash app without Flask.\n",
    "\n",
    "However, now we can also add a _route_ to the Flask app that returns JSON:"
   ]
  },
  {
   "cell_type": "code",
   "execution_count": 14,
   "metadata": {
    "ExecuteTime": {
     "end_time": "2022-12-29T17:42:40.302313Z",
     "start_time": "2022-12-29T17:42:40.285823Z"
    }
   },
   "outputs": [],
   "source": [
    "import json\n",
    "\n",
    "# create a new flask app\n",
    "flask_app = Flask(__name__)\n",
    "# create a new dash app built on that flask app\n",
    "dash_app = Dash(__name__, server=flask_app)\n",
    "\n",
    "# set the layout to include a single <p> tag containing \"Hello, World!\"\n",
    "dash_app.layout = html.P(\"Hello, World!\")\n",
    "\n",
    "# add a route to the flask app that returns json\n",
    "@flask_app.route(\"/get_json\", methods=[\"GET\"])\n",
    "def hello_json():\n",
    "    return json.dumps({\n",
    "        \"hello\": \"world!\",\n",
    "        \"key\": \"value!\"\n",
    "    })"
   ]
  },
  {
   "cell_type": "code",
   "execution_count": 15,
   "metadata": {
    "ExecuteTime": {
     "end_time": "2022-12-29T17:42:43.641102Z",
     "start_time": "2022-12-29T17:42:43.271638Z"
    }
   },
   "outputs": [
    {
     "data": {
      "text/html": [
       "\n",
       "        <iframe\n",
       "            width=\"100%\"\n",
       "            height=\"150\"\n",
       "            src=\"http://localhost:5000/\"\n",
       "            frameborder=\"0\"\n",
       "            allowfullscreen\n",
       "            \n",
       "        ></iframe>\n",
       "        "
      ],
      "text/plain": [
       "<IPython.lib.display.IFrame at 0x7ff350b21670>"
      ]
     },
     "metadata": {},
     "output_type": "display_data"
    }
   ],
   "source": [
    "#del dash_app.config._read_only[\"requests_pathname_prefix\"]\n",
    "dash_app.run_server(mode=\"inline\", height=150, host=\"localhost\", port=5000)"
   ]
  },
  {
   "cell_type": "markdown",
   "metadata": {},
   "source": [
    "The web page view looks exactly the same, but we can also run a query directly to the backend and get a JSON result!"
   ]
  },
  {
   "cell_type": "code",
   "execution_count": 16,
   "metadata": {
    "ExecuteTime": {
     "end_time": "2022-12-29T17:42:45.578847Z",
     "start_time": "2022-12-29T17:42:45.562796Z"
    }
   },
   "outputs": [
    {
     "data": {
      "text/plain": [
       "{'hello': 'world!', 'key': 'value!'}"
      ]
     },
     "execution_count": 16,
     "metadata": {},
     "output_type": "execute_result"
    }
   ],
   "source": [
    "import requests\n",
    "\n",
    "response = requests.get(\"http://localhost:5000/get_json\")\n",
    "response.json()"
   ]
  },
  {
   "cell_type": "markdown",
   "metadata": {},
   "source": [
    "Now that we have those basic elements, let's combine our Iris Dataset Flask API and Dash dashboard from the previous lessons."
   ]
  },
  {
   "cell_type": "markdown",
   "metadata": {},
   "source": [
    "## Creating a Machine Learning Dash App\n",
    "\n",
    "### Recall: Previous Flask and Dash Apps\n",
    "\n",
    "Our previous Flask app looked like this:\n",
    "\n",
    "```python\n",
    "from flask import Flask, request\n",
    "import joblib\n",
    "import json\n",
    "\n",
    "app = Flask(__name__)\n",
    "\n",
    "def iris_prediction(sepal_length, sepal_width, petal_length, petal_width):\n",
    "    \"\"\"\n",
    "    Given sepal length, sepal width, petal length, and petal width,\n",
    "    predict the class of iris\n",
    "    \"\"\"\n",
    "    with open(\"model.pkl\", \"rb\") as f:\n",
    "        model = joblib.load(f)\n",
    "    X = [[sepal_length, sepal_width, petal_length, petal_width]]\n",
    "    predictions = model.predict(X)\n",
    "    # model.predict takes a list of records and returns a list of predictions\n",
    "    # but we are only making a single prediction\n",
    "    prediction = int(predictions[0])\n",
    "    return {\"predicted_class\": prediction}\n",
    "\n",
    "@app.route('/', methods=['GET'])\n",
    "def index():\n",
    "    return 'Hello, world!'\n",
    "\n",
    "@app.route('/predict', methods=['POST'])\n",
    "def predict():\n",
    "    request_json = request.get_json()\n",
    "    result = iris_prediction(**request_json)\n",
    "    return json.dumps(result)\n",
    "```\n",
    "\n",
    "This is a basic web server that returns the text \"Hello, world!\" when it receives a `GET` request to view the home page (`/` route), and returns an iris classification prediction when it receives a `POST` request to the `/predict` route.\n",
    "\n",
    "Our previous Dash app looked like this:\n",
    "\n",
    "```python\n",
    "from jupyter_dash import JupyterDash as Dash\n",
    "from dash import html, dcc, dash_table, Input, Output\n",
    "import dash_bootstrap_components as dbc\n",
    "\n",
    "import pandas as pd\n",
    "from sklearn.datasets import load_iris\n",
    "\n",
    "external_stylesheets = [dbc.themes.BOOTSTRAP]\n",
    "app = Dash(__name__, external_stylesheets=external_stylesheets)\n",
    "\n",
    "markdown = dcc.Markdown(\"\"\"\n",
    "# Iris Dataset\n",
    "\n",
    "Below is a DataTable showing a sample of 20 records from the\n",
    " [Iris Dataset](https://en.wikipedia.org/wiki/Iris_flower_data_set).\n",
    " \n",
    "Select any record to view more information!\n",
    "\"\"\")\n",
    "\n",
    "data = load_iris()\n",
    "X = pd.DataFrame(data.data, columns=data.feature_names)\n",
    "y = pd.Series(data.target, name=\"class\")\n",
    "full_dataset = pd.concat([X, y], axis=1)\n",
    "table = dash_table.DataTable(\n",
    "    data=full_dataset.sample(10, random_state=1).to_dict(orient=\"records\"),\n",
    "    row_selectable=\"single\",\n",
    "    cell_selectable=False,\n",
    "    id=\"tbl\"\n",
    ")\n",
    "\n",
    "modal = dbc.Modal(children=[\n",
    "    dbc.ModalHeader(dbc.ModalTitle(\"Iris Information\")),\n",
    "    dbc.ModalBody(id=\"modal-body\")\n",
    "],\n",
    "                  id=\"modal\",\n",
    "                  is_open=False\n",
    "                 )\n",
    "\n",
    "app.layout = html.Div(children=[\n",
    "    html.Div(markdown),\n",
    "    html.Div(table),\n",
    "    modal\n",
    "])\n",
    "\n",
    "def create_list_group(selected_row_data):\n",
    "    return dbc.ListGroup([\n",
    "        dbc.ListGroupItem(f\"{k}: {v}\") for k, v in selected_row_data.items()\n",
    "    ])\n",
    "    \n",
    "def create_image_card(selected_row_data):\n",
    "    iris_class = selected_row_data[\"class\"]\n",
    "    if iris_class == 0:\n",
    "        name = \"Iris setosa \"\n",
    "        img_url = \"https://upload.wikimedia.org/wikipedia/commons/thumb/5/56/Kosaciec_szczecinkowaty_Iris_setosa.jpg/180px-Kosaciec_szczecinkowaty_Iris_setosa.jpg\"\n",
    "        img_source = \"https://commons.wikimedia.org/wiki/File:Kosaciec_szczecinkowaty_Iris_setosa.jpg\"\n",
    "    elif iris_class == 1:\n",
    "        name = \"Iris versicolor \"\n",
    "        img_url = \"https://upload.wikimedia.org/wikipedia/commons/thumb/4/41/Iris_versicolor_3.jpg/320px-Iris_versicolor_3.jpg\"\n",
    "        img_source = \"https://commons.wikimedia.org/wiki/File:Iris_versicolor_3.jpg\"\n",
    "    else:\n",
    "        name = \"Iris virginica \"\n",
    "        img_url = \"https://upload.wikimedia.org/wikipedia/commons/thumb/9/9f/Iris_virginica.jpg/295px-Iris_virginica.jpg\"\n",
    "        img_source = \"https://commons.wikimedia.org/wiki/File:Iris_virginica.jpg\"\n",
    "    \n",
    "    return dbc.Card(children=[\n",
    "        dbc.CardImg(src=img_url),\n",
    "        dbc.CardBody(children=[\n",
    "            html.Em(name),\n",
    "            html.Small(html.A(\"(image source)\", href=img_source, target=\"blank_\"))\n",
    "        ])\n",
    "    ])\n",
    "\n",
    "@app.callback(Output(\"modal\", \"is_open\"), Input(\"tbl\", \"selected_rows\"))\n",
    "def toggle_modal(selected_rows):\n",
    "    if selected_rows:\n",
    "        return True\n",
    "    else:\n",
    "        return False\n",
    "\n",
    "@app.callback(\n",
    "    Output(\"modal-body\", \"children\"),\n",
    "    [Input(\"tbl\", \"derived_virtual_data\"), Input(\"tbl\", \"selected_rows\")])\n",
    "def render_information(rows, selected_rows):\n",
    "    if selected_rows:\n",
    "        # selection is set to \"single\" so there will be exactly 1 selected row\n",
    "        selected_row_data = rows[selected_rows[0]]      \n",
    "        return html.Div(dbc.Row(children=[\n",
    "            dbc.Col(create_image_card(selected_row_data)),\n",
    "            dbc.Col(create_list_group(selected_row_data))\n",
    "        ]))\n",
    "            \n",
    "```\n",
    "\n",
    "This is an interactive web page that displays a table of data, where the user can click on a record and a modal will pop up with additional information."
   ]
  },
  {
   "cell_type": "markdown",
   "metadata": {},
   "source": [
    "### A Basic Combination\n",
    "\n",
    "If we just want to combine the functionality of the two applications, we just need to declare the two apps appropriately, and change the names from `app` to either `flask_app` or `dash_app`. We'll go ahead and remove the `/` route from the Flask app because the Dash app is using the home page to display our interactive table."
   ]
  },
  {
   "cell_type": "code",
   "execution_count": 9,
   "metadata": {
    "ExecuteTime": {
     "end_time": "2022-12-29T17:11:14.422125Z",
     "start_time": "2022-12-29T17:11:02.790673Z"
    }
   },
   "outputs": [],
   "source": [
    "########## IMPORTS ##########\n",
    "\n",
    "from flask import Flask, request\n",
    "import joblib\n",
    "import json\n",
    "\n",
    "from jupyter_dash import JupyterDash as Dash\n",
    "from dash import html, dcc, dash_table, Input, Output\n",
    "import dash_bootstrap_components as dbc\n",
    "\n",
    "import pandas as pd\n",
    "from sklearn.datasets import load_iris\n",
    "\n",
    "########## SETTING UP THE APPS ##########\n",
    "\n",
    "flask_app = Flask(__name__)\n",
    "external_stylesheets = [dbc.themes.BOOTSTRAP]\n",
    "dash_app = Dash(__name__, external_stylesheets=external_stylesheets, server=flask_app)\n",
    "\n",
    "########## DECLARING LAYOUT COMPONENTS ##########\n",
    "\n",
    "markdown = dcc.Markdown(\"\"\"\n",
    "# Iris Dataset\n",
    "\n",
    "Below is a DataTable showing a sample of 20 records from the\n",
    " [Iris Dataset](https://en.wikipedia.org/wiki/Iris_flower_data_set).\n",
    "\n",
    "Select any record to view more information!\n",
    "\"\"\")\n",
    "\n",
    "data = load_iris()\n",
    "X = pd.DataFrame(data.data, columns=data.feature_names)\n",
    "y = pd.Series(data.target, name=\"class\")\n",
    "full_dataset = pd.concat([X, y], axis=1)\n",
    "table = dash_table.DataTable(\n",
    "    data=full_dataset.sample(10, random_state=1).to_dict(orient=\"records\"),\n",
    "    row_selectable=\"single\",\n",
    "    cell_selectable=False,\n",
    "    id=\"tbl\"\n",
    ")\n",
    "\n",
    "modal = dbc.Modal(children=[\n",
    "    dbc.ModalHeader(dbc.ModalTitle(\"Iris Information\")),\n",
    "    dbc.ModalBody(id=\"modal-body\")\n",
    "],\n",
    "                  id=\"modal\",\n",
    "                  is_open=False\n",
    "                 )\n",
    "\n",
    "dash_app.layout = html.Div(children=[\n",
    "    html.Div(markdown),\n",
    "    html.Div(table),\n",
    "    modal\n",
    "])\n",
    "\n",
    "########## HELPER FUNCTIONS ##########\n",
    "\n",
    "def create_list_group(selected_row_data):\n",
    "    return dbc.ListGroup([\n",
    "        dbc.ListGroupItem(f\"{k}: {v}\") for k, v in selected_row_data.items()\n",
    "    ])\n",
    "\n",
    "def create_image_card(selected_row_data):\n",
    "    iris_class = selected_row_data[\"class\"]\n",
    "    if iris_class == 0:\n",
    "        name = \"Iris setosa \"\n",
    "        img_url = \"https://upload.wikimedia.org/wikipedia/commons/thumb/5/56/Kosaciec_szczecinkowaty_Iris_setosa.jpg/180px-Kosaciec_szczecinkowaty_Iris_setosa.jpg\"\n",
    "        img_source = \"https://commons.wikimedia.org/wiki/File:Kosaciec_szczecinkowaty_Iris_setosa.jpg\"\n",
    "    elif iris_class == 1:\n",
    "        name = \"Iris versicolor \"\n",
    "        img_url = \"https://upload.wikimedia.org/wikipedia/commons/thumb/4/41/Iris_versicolor_3.jpg/320px-Iris_versicolor_3.jpg\"\n",
    "        img_source = \"https://commons.wikimedia.org/wiki/File:Iris_versicolor_3.jpg\"\n",
    "    else:\n",
    "        name = \"Iris virginica \"\n",
    "        img_url = \"https://upload.wikimedia.org/wikipedia/commons/thumb/9/9f/Iris_virginica.jpg/295px-Iris_virginica.jpg\"\n",
    "        img_source = \"https://commons.wikimedia.org/wiki/File:Iris_virginica.jpg\"\n",
    "\n",
    "    return dbc.Card(children=[\n",
    "        dbc.CardImg(src=img_url),\n",
    "        dbc.CardBody(children=[\n",
    "            html.Em(name),\n",
    "            html.Small(html.A(\"(image source)\", href=img_source, target=\"blank_\"))\n",
    "        ])\n",
    "    ])\n",
    "\n",
    "def iris_prediction(sepal_length, sepal_width, petal_length, petal_width):\n",
    "    \"\"\"\n",
    "    Given sepal length, sepal width, petal length, and petal width,\n",
    "    predict the class of iris\n",
    "    \"\"\"\n",
    "    with open(\"model.pkl\", \"rb\") as f:\n",
    "        model = joblib.load(f)\n",
    "    X = [[sepal_length, sepal_width, petal_length, petal_width]]\n",
    "    predictions = model.predict(X)\n",
    "    # model.predict takes a list of records and returns a list of predictions\n",
    "    # but we are only making a single prediction\n",
    "    prediction = int(predictions[0])\n",
    "    return {\"predicted_class\": prediction}\n",
    "\n",
    "########## CALLBACKS ##########\n",
    "\n",
    "@dash_app.callback(Output(\"modal\", \"is_open\"), Input(\"tbl\", \"selected_rows\"))\n",
    "def toggle_modal(selected_rows):\n",
    "    if selected_rows:\n",
    "        return True\n",
    "    else:\n",
    "        return False\n",
    "\n",
    "@dash_app.callback(\n",
    "    Output(\"modal-body\", \"children\"),\n",
    "    [Input(\"tbl\", \"derived_virtual_data\"), Input(\"tbl\", \"selected_rows\")])\n",
    "def render_information(rows, selected_rows):\n",
    "    if selected_rows:\n",
    "        # selection is set to \"single\" so there will be exactly 1 selected row\n",
    "        selected_row_data = rows[selected_rows[0]]      \n",
    "        return html.Div(dbc.Row(children=[\n",
    "            dbc.Col(create_image_card(selected_row_data)),\n",
    "            dbc.Col(create_list_group(selected_row_data))\n",
    "        ]))\n",
    "\n",
    "########## ROUTES ##########\n",
    "\n",
    "@flask_app.route('/predict', methods=['POST'])\n",
    "def predict():\n",
    "    request_json = request.get_json()\n",
    "    result = iris_prediction(**request_json)\n",
    "    return json.dumps(result)\n",
    "\n"
   ]
  },
  {
   "cell_type": "markdown",
   "metadata": {},
   "source": [
    "As you can see, the Dash app works like it did before:"
   ]
  },
  {
   "cell_type": "code",
   "execution_count": 10,
   "metadata": {
    "ExecuteTime": {
     "end_time": "2022-12-29T17:11:14.787885Z",
     "start_time": "2022-12-29T17:11:14.426684Z"
    }
   },
   "outputs": [
    {
     "data": {
      "text/html": [
       "\n",
       "        <iframe\n",
       "            width=\"100%\"\n",
       "            height=\"500\"\n",
       "            src=\"http://localhost:5000/\"\n",
       "            frameborder=\"0\"\n",
       "            allowfullscreen\n",
       "            \n",
       "        ></iframe>\n",
       "        "
      ],
      "text/plain": [
       "<IPython.lib.display.IFrame at 0x7f93a88290a0>"
      ]
     },
     "metadata": {},
     "output_type": "display_data"
    }
   ],
   "source": [
    "del dash_app.config._read_only[\"requests_pathname_prefix\"]\n",
    "dash_app.run_server(mode=\"inline\", height=500, host=\"localhost\", port=5000)"
   ]
  },
  {
   "cell_type": "markdown",
   "metadata": {},
   "source": [
    "And so does the Flask app!"
   ]
  },
  {
   "cell_type": "code",
   "execution_count": 11,
   "metadata": {
    "ExecuteTime": {
     "end_time": "2022-12-29T17:12:00.083000Z",
     "start_time": "2022-12-29T17:11:59.607016Z"
    }
   },
   "outputs": [
    {
     "data": {
      "text/plain": [
       "{'predicted_class': 0}"
      ]
     },
     "execution_count": 11,
     "metadata": {},
     "output_type": "execute_result"
    }
   ],
   "source": [
    "response = requests.post(\n",
    "    url=\"http://localhost:5000/predict\",\n",
    "    json={\"sepal_length\": 5.1, \"sepal_width\": 3.5, \"petal_length\": 1.4, \"petal_width\": 0.2}\n",
    ")\n",
    "response.json()"
   ]
  },
  {
   "cell_type": "markdown",
   "metadata": {},
   "source": [
    "### Incorporating Predictions into Our Dash App\n",
    "\n",
    "Right now our modal is interactive, but it only displays static data from the table. Let's zoom in on that code with some example data:"
   ]
  },
  {
   "cell_type": "code",
   "execution_count": 12,
   "metadata": {
    "ExecuteTime": {
     "end_time": "2022-12-29T17:12:05.940396Z",
     "start_time": "2022-12-29T17:12:05.933667Z"
    }
   },
   "outputs": [],
   "source": [
    "example_data = {\n",
    "    \"sepal length (cm)\": 5.8, \n",
    "    \"sepal width (cm)\": 4, \n",
    "    \"petal length (cm)\": 1.2, \n",
    "    \"petal width (cm)\": 0.2,\n",
    "    \"class\": 0\n",
    "}\n",
    "\n",
    "modal_body = dbc.ModalBody(html.Div(dbc.Row(children=[\n",
    "    dbc.Col(create_image_card(example_data)),\n",
    "    dbc.Col(create_list_group(example_data))\n",
    "])))\n",
    "\n",
    "dash_app.layout = dbc.Modal(children=[\n",
    "    dbc.ModalHeader(dbc.ModalTitle(\"Iris Information\")),\n",
    "    modal_body\n",
    "], is_open=True)"
   ]
  },
  {
   "cell_type": "code",
   "execution_count": 14,
   "metadata": {
    "ExecuteTime": {
     "end_time": "2022-12-29T17:12:17.606994Z",
     "start_time": "2022-12-29T17:12:17.244149Z"
    }
   },
   "outputs": [
    {
     "data": {
      "text/html": [
       "\n",
       "        <iframe\n",
       "            width=\"100%\"\n",
       "            height=\"500\"\n",
       "            src=\"http://localhost:5000/\"\n",
       "            frameborder=\"0\"\n",
       "            allowfullscreen\n",
       "            \n",
       "        ></iframe>\n",
       "        "
      ],
      "text/plain": [
       "<IPython.lib.display.IFrame at 0x7f93ab77d5b0>"
      ]
     },
     "metadata": {},
     "output_type": "display_data"
    }
   ],
   "source": [
    "#del dash_app.config._read_only[\"requests_pathname_prefix\"]\n",
    "dash_app.run_server(mode=\"inline\", height=500, host=\"localhost\", port=5000)"
   ]
  },
  {
   "cell_type": "markdown",
   "metadata": {},
   "source": [
    "What if instead of just displaying the `class` from the table, we showed both the actual class and the predicted class?\n",
    "\n",
    "Remember, we already have a helper function from our Flask app called `iris_prediction`. Let's make an additional helper function that takes in the dictionary of data, passes the relevant arguments to `iris_prediction`, then displays information about whether the prediction was correct."
   ]
  },
  {
   "cell_type": "code",
   "execution_count": 15,
   "metadata": {
    "ExecuteTime": {
     "end_time": "2022-12-29T17:13:04.891536Z",
     "start_time": "2022-12-29T17:13:04.879180Z"
    }
   },
   "outputs": [],
   "source": [
    "def check_prediction(selected_row_data):\n",
    "    # make a copy so we don't mess up the original data record\n",
    "    data_copy = selected_row_data.copy()\n",
    "    # remove and store the actual class\n",
    "    actual_class = data_copy.pop(\"class\")\n",
    "    # remove \" (cm)\" from labels and replace spaces with underscores\n",
    "    data_cleaned = {k.split(\" (cm)\")[0].replace(\" \", \"_\"):v for k, v in data_copy.items()}\n",
    "    \n",
    "    # get the result dictionary from iris_prediction\n",
    "    result = iris_prediction(**data_cleaned)\n",
    "    # extract the predicted class from the result dictionary\n",
    "    predicted_class = result[\"predicted_class\"]\n",
    "    \n",
    "    # determine whether the prediction was correct\n",
    "    correct_prediction = predicted_class == actual_class\n",
    "    if correct_prediction:\n",
    "        color = \"success\"\n",
    "    else:\n",
    "        color = \"danger\"\n",
    "    \n",
    "    return dbc.Alert(f\"Predicted class: {predicted_class}\", color=color)\n",
    "\n",
    "modal_body = dbc.ModalBody(html.Div(dbc.Row(children=[\n",
    "    dbc.Col(create_image_card(example_data)),\n",
    "    dbc.Col(children=[\n",
    "        create_list_group(example_data),\n",
    "        # adding a horizontal rule divider here\n",
    "        html.Hr(),\n",
    "        # adding the prediction check here\n",
    "        check_prediction(example_data)\n",
    "    ])\n",
    "])))\n",
    "\n",
    "dash_app.layout = dbc.Modal(children=[\n",
    "    dbc.ModalHeader(dbc.ModalTitle(\"Iris Information\")),\n",
    "    modal_body\n",
    "], is_open=True)"
   ]
  },
  {
   "cell_type": "code",
   "execution_count": 16,
   "metadata": {
    "ExecuteTime": {
     "end_time": "2022-12-29T17:13:07.704153Z",
     "start_time": "2022-12-29T17:13:07.340080Z"
    }
   },
   "outputs": [
    {
     "data": {
      "text/html": [
       "\n",
       "        <iframe\n",
       "            width=\"100%\"\n",
       "            height=\"500\"\n",
       "            src=\"http://localhost:5000/\"\n",
       "            frameborder=\"0\"\n",
       "            allowfullscreen\n",
       "            \n",
       "        ></iframe>\n",
       "        "
      ],
      "text/plain": [
       "<IPython.lib.display.IFrame at 0x7f93ab77d460>"
      ]
     },
     "metadata": {},
     "output_type": "display_data"
    }
   ],
   "source": [
    "dash_app.run_server(mode=\"inline\", height=500, host=\"localhost\", port=5000)"
   ]
  },
  {
   "cell_type": "markdown",
   "metadata": {},
   "source": [
    "Combining that all together with our data table, our complete app now looks like this:"
   ]
  },
  {
   "cell_type": "code",
   "execution_count": 6,
   "metadata": {
    "ExecuteTime": {
     "end_time": "2022-12-29T17:40:56.019033Z",
     "start_time": "2022-12-29T17:40:49.965479Z"
    }
   },
   "outputs": [],
   "source": [
    "########## IMPORTS ##########\n",
    "\n",
    "from flask import Flask, request\n",
    "import joblib\n",
    "import json\n",
    "\n",
    "from jupyter_dash import JupyterDash as Dash\n",
    "from dash import html, dcc, dash_table, Input, Output\n",
    "import dash_bootstrap_components as dbc\n",
    "\n",
    "import pandas as pd\n",
    "from sklearn.datasets import load_iris\n",
    "\n",
    "########## SETTING UP THE APPS ##########\n",
    "\n",
    "flask_app = Flask(__name__)\n",
    "external_stylesheets = [dbc.themes.BOOTSTRAP]\n",
    "dash_app = Dash(__name__, external_stylesheets=external_stylesheets, server=flask_app)\n",
    "\n",
    "########## DECLARING LAYOUT COMPONENTS ##########\n",
    "\n",
    "markdown = dcc.Markdown(\"\"\"\n",
    "# Iris Dataset\n",
    "\n",
    "Below is a DataTable showing a sample of 20 records from the\n",
    " [Iris Dataset](https://en.wikipedia.org/wiki/Iris_flower_data_set).\n",
    "\n",
    "Select any record to view more information!\n",
    "\"\"\")\n",
    "\n",
    "data = load_iris()\n",
    "X = pd.DataFrame(data.data, columns=data.feature_names)\n",
    "y = pd.Series(data.target, name=\"class\")\n",
    "full_dataset = pd.concat([X, y], axis=1)\n",
    "table = dash_table.DataTable(\n",
    "    data=full_dataset.sample(10, random_state=4).to_dict(orient=\"records\"),\n",
    "    row_selectable=\"single\",\n",
    "    cell_selectable=False,\n",
    "    id=\"tbl\"\n",
    ")\n",
    "\n",
    "modal = dbc.Modal(children=[\n",
    "    dbc.ModalHeader(dbc.ModalTitle(\"Iris Information\")),\n",
    "    dbc.ModalBody(id=\"modal-body\")\n",
    "],\n",
    "                  id=\"modal\",\n",
    "                  is_open=False\n",
    "                 )\n",
    "\n",
    "dash_app.layout = html.Div(children=[\n",
    "    html.Div(markdown),\n",
    "    html.Div(table),\n",
    "    modal\n",
    "])\n",
    "\n",
    "########## HELPER FUNCTIONS ##########\n",
    "\n",
    "def create_list_group(selected_row_data):\n",
    "    return dbc.ListGroup([\n",
    "        dbc.ListGroupItem(f\"{k}: {v}\") for k, v in selected_row_data.items()\n",
    "    ])\n",
    "\n",
    "def create_image_card(selected_row_data):\n",
    "    iris_class = selected_row_data[\"class\"]\n",
    "    if iris_class == 0:\n",
    "        name = \"Iris setosa \"\n",
    "        img_url = \"https://upload.wikimedia.org/wikipedia/commons/thumb/5/56/Kosaciec_szczecinkowaty_Iris_setosa.jpg/180px-Kosaciec_szczecinkowaty_Iris_setosa.jpg\"\n",
    "        img_source = \"https://commons.wikimedia.org/wiki/File:Kosaciec_szczecinkowaty_Iris_setosa.jpg\"\n",
    "    elif iris_class == 1:\n",
    "        name = \"Iris versicolor \"\n",
    "        img_url = \"https://upload.wikimedia.org/wikipedia/commons/thumb/4/41/Iris_versicolor_3.jpg/320px-Iris_versicolor_3.jpg\"\n",
    "        img_source = \"https://commons.wikimedia.org/wiki/File:Iris_versicolor_3.jpg\"\n",
    "    else:\n",
    "        name = \"Iris virginica \"\n",
    "        img_url = \"https://upload.wikimedia.org/wikipedia/commons/thumb/9/9f/Iris_virginica.jpg/295px-Iris_virginica.jpg\"\n",
    "        img_source = \"https://commons.wikimedia.org/wiki/File:Iris_virginica.jpg\"\n",
    "\n",
    "    return dbc.Card(children=[\n",
    "        dbc.CardImg(src=img_url),\n",
    "        dbc.CardBody(children=[\n",
    "            html.Em(name),\n",
    "            html.Small(html.A(\"(image source)\", href=img_source, target=\"blank_\"))\n",
    "        ])\n",
    "    ])\n",
    "\n",
    "def iris_prediction(sepal_length, sepal_width, petal_length, petal_width):\n",
    "    \"\"\"\n",
    "    Given sepal length, sepal width, petal length, and petal width,\n",
    "    predict the class of iris\n",
    "    \"\"\"\n",
    "    with open(\"model.pkl\", \"rb\") as f:\n",
    "        model = joblib.load(f)\n",
    "    X = [[sepal_length, sepal_width, petal_length, petal_width]]\n",
    "    predictions = model.predict(X)\n",
    "    # model.predict takes a list of records and returns a list of predictions\n",
    "    # but we are only making a single prediction\n",
    "    prediction = int(predictions[0])\n",
    "    return {\"predicted_class\": prediction}\n",
    "\n",
    "def check_prediction(selected_row_data):\n",
    "    \"\"\"\n",
    "    Return an Alert component with information about the model's prediction\n",
    "    vs. the true class value\n",
    "    \"\"\"\n",
    "    data_copy = selected_row_data.copy()\n",
    "    actual_class = data_copy.pop(\"class\")\n",
    "    # remove \" (cm)\" from labels\n",
    "    data_cleaned = {k.split(\" (cm)\")[0].replace(\" \", \"_\"):v for k, v in data_copy.items()}\n",
    "    result = iris_prediction(**data_cleaned)\n",
    "    predicted_class = result[\"predicted_class\"]\n",
    "    correct_prediction = predicted_class == actual_class\n",
    "    if correct_prediction:\n",
    "        color = \"success\"\n",
    "    else:\n",
    "        color = \"danger\"\n",
    "    return dbc.Alert(f\"Predicted class: {predicted_class}\", color=color)\n",
    "\n",
    "########## CALLBACKS ##########\n",
    "\n",
    "@dash_app.callback(Output(\"modal\", \"is_open\"), Input(\"tbl\", \"selected_rows\"))\n",
    "def toggle_modal(selected_rows):\n",
    "    if selected_rows:\n",
    "        return True\n",
    "    else:\n",
    "        return False\n",
    "\n",
    "@dash_app.callback(\n",
    "    Output(\"modal-body\", \"children\"),\n",
    "    [Input(\"tbl\", \"derived_virtual_data\"), Input(\"tbl\", \"selected_rows\")])\n",
    "def render_information(rows, selected_rows):\n",
    "    if selected_rows:\n",
    "        # selection is set to \"single\" so there will be exactly 1 selected row\n",
    "        selected_row_data = rows[selected_rows[0]]      \n",
    "        return html.Div(dbc.Row(children=[\n",
    "            dbc.Col(create_image_card(selected_row_data)),\n",
    "            dbc.Col(children=[\n",
    "                create_list_group(selected_row_data),\n",
    "                html.Hr(),\n",
    "                check_prediction(selected_row_data)\n",
    "            ])\n",
    "        ]))\n",
    "\n",
    "########## ROUTES ##########\n",
    "\n",
    "@flask_app.route('/predict', methods=['POST'])\n",
    "def predict():\n",
    "    request_json = request.get_json()\n",
    "    result = iris_prediction(**request_json)\n",
    "    return json.dumps(result)\n",
    "\n"
   ]
  },
  {
   "cell_type": "markdown",
   "metadata": {},
   "source": [
    "(We changed the random seed used to generate the sample so that it includes some places where the model makes a mistake. Try clicking through to find them!)"
   ]
  },
  {
   "cell_type": "code",
   "execution_count": 7,
   "metadata": {
    "ExecuteTime": {
     "end_time": "2022-12-29T17:40:56.394311Z",
     "start_time": "2022-12-29T17:40:56.026062Z"
    },
    "scrolled": false
   },
   "outputs": [
    {
     "data": {
      "text/html": [
       "\n",
       "        <iframe\n",
       "            width=\"100%\"\n",
       "            height=\"500\"\n",
       "            src=\"http://localhost:5000/\"\n",
       "            frameborder=\"0\"\n",
       "            allowfullscreen\n",
       "            \n",
       "        ></iframe>\n",
       "        "
      ],
      "text/plain": [
       "<IPython.lib.display.IFrame at 0x7ff34f6f86a0>"
      ]
     },
     "metadata": {},
     "output_type": "display_data"
    }
   ],
   "source": [
    "#del dash_app.config._read_only[\"requests_pathname_prefix\"]\n",
    "dash_app.run_server(mode=\"inline\", height=500, host=\"localhost\", port=5000)"
   ]
  },
  {
   "cell_type": "markdown",
   "metadata": {},
   "source": [
    "Nice! Now we have a dashboard that dynamically generates machine learning predictions whenever the user clicks on a record!\n",
    "\n",
    "### Predictions on Unseen Data\n",
    "\n",
    "So far we have an interesting view into our model's performance on the training data, but typically the value of a deployed model is to make predictions on new, unseen data.\n",
    "\n",
    "Let's make an interface that allows the user to enter values into a form, then makes predictions using those user-supplied values.\n",
    "\n",
    "In order to figure out what kind of inputs our form should have, let's look at our `X` training data:"
   ]
  },
  {
   "cell_type": "code",
   "execution_count": 20,
   "metadata": {
    "ExecuteTime": {
     "end_time": "2022-12-29T17:13:55.552301Z",
     "start_time": "2022-12-29T17:13:55.503313Z"
    }
   },
   "outputs": [
    {
     "data": {
      "text/html": [
       "<div>\n",
       "<style scoped>\n",
       "    .dataframe tbody tr th:only-of-type {\n",
       "        vertical-align: middle;\n",
       "    }\n",
       "\n",
       "    .dataframe tbody tr th {\n",
       "        vertical-align: top;\n",
       "    }\n",
       "\n",
       "    .dataframe thead th {\n",
       "        text-align: right;\n",
       "    }\n",
       "</style>\n",
       "<table border=\"1\" class=\"dataframe\">\n",
       "  <thead>\n",
       "    <tr style=\"text-align: right;\">\n",
       "      <th></th>\n",
       "      <th>sepal length (cm)</th>\n",
       "      <th>sepal width (cm)</th>\n",
       "      <th>petal length (cm)</th>\n",
       "      <th>petal width (cm)</th>\n",
       "    </tr>\n",
       "  </thead>\n",
       "  <tbody>\n",
       "    <tr>\n",
       "      <th>count</th>\n",
       "      <td>150.000000</td>\n",
       "      <td>150.000000</td>\n",
       "      <td>150.000000</td>\n",
       "      <td>150.000000</td>\n",
       "    </tr>\n",
       "    <tr>\n",
       "      <th>mean</th>\n",
       "      <td>5.843333</td>\n",
       "      <td>3.057333</td>\n",
       "      <td>3.758000</td>\n",
       "      <td>1.199333</td>\n",
       "    </tr>\n",
       "    <tr>\n",
       "      <th>std</th>\n",
       "      <td>0.828066</td>\n",
       "      <td>0.435866</td>\n",
       "      <td>1.765298</td>\n",
       "      <td>0.762238</td>\n",
       "    </tr>\n",
       "    <tr>\n",
       "      <th>min</th>\n",
       "      <td>4.300000</td>\n",
       "      <td>2.000000</td>\n",
       "      <td>1.000000</td>\n",
       "      <td>0.100000</td>\n",
       "    </tr>\n",
       "    <tr>\n",
       "      <th>25%</th>\n",
       "      <td>5.100000</td>\n",
       "      <td>2.800000</td>\n",
       "      <td>1.600000</td>\n",
       "      <td>0.300000</td>\n",
       "    </tr>\n",
       "    <tr>\n",
       "      <th>50%</th>\n",
       "      <td>5.800000</td>\n",
       "      <td>3.000000</td>\n",
       "      <td>4.350000</td>\n",
       "      <td>1.300000</td>\n",
       "    </tr>\n",
       "    <tr>\n",
       "      <th>75%</th>\n",
       "      <td>6.400000</td>\n",
       "      <td>3.300000</td>\n",
       "      <td>5.100000</td>\n",
       "      <td>1.800000</td>\n",
       "    </tr>\n",
       "    <tr>\n",
       "      <th>max</th>\n",
       "      <td>7.900000</td>\n",
       "      <td>4.400000</td>\n",
       "      <td>6.900000</td>\n",
       "      <td>2.500000</td>\n",
       "    </tr>\n",
       "  </tbody>\n",
       "</table>\n",
       "</div>"
      ],
      "text/plain": [
       "       sepal length (cm)  sepal width (cm)  petal length (cm)  \\\n",
       "count         150.000000        150.000000         150.000000   \n",
       "mean            5.843333          3.057333           3.758000   \n",
       "std             0.828066          0.435866           1.765298   \n",
       "min             4.300000          2.000000           1.000000   \n",
       "25%             5.100000          2.800000           1.600000   \n",
       "50%             5.800000          3.000000           4.350000   \n",
       "75%             6.400000          3.300000           5.100000   \n",
       "max             7.900000          4.400000           6.900000   \n",
       "\n",
       "       petal width (cm)  \n",
       "count        150.000000  \n",
       "mean           1.199333  \n",
       "std            0.762238  \n",
       "min            0.100000  \n",
       "25%            0.300000  \n",
       "50%            1.300000  \n",
       "75%            1.800000  \n",
       "max            2.500000  "
      ]
     },
     "execution_count": 20,
     "metadata": {},
     "output_type": "execute_result"
    }
   ],
   "source": [
    "X.describe()"
   ]
  },
  {
   "cell_type": "code",
   "execution_count": 31,
   "metadata": {
    "ExecuteTime": {
     "end_time": "2022-12-29T17:53:11.437764Z",
     "start_time": "2022-12-29T17:53:11.422250Z"
    }
   },
   "outputs": [
    {
     "data": {
      "text/html": [
       "<div>\n",
       "<style scoped>\n",
       "    .dataframe tbody tr th:only-of-type {\n",
       "        vertical-align: middle;\n",
       "    }\n",
       "\n",
       "    .dataframe tbody tr th {\n",
       "        vertical-align: top;\n",
       "    }\n",
       "\n",
       "    .dataframe thead th {\n",
       "        text-align: right;\n",
       "    }\n",
       "</style>\n",
       "<table border=\"1\" class=\"dataframe\">\n",
       "  <thead>\n",
       "    <tr style=\"text-align: right;\">\n",
       "      <th></th>\n",
       "      <th>sepal length (cm)</th>\n",
       "      <th>sepal width (cm)</th>\n",
       "      <th>petal length (cm)</th>\n",
       "      <th>petal width (cm)</th>\n",
       "      <th>class</th>\n",
       "    </tr>\n",
       "  </thead>\n",
       "  <tbody>\n",
       "    <tr>\n",
       "      <th>0</th>\n",
       "      <td>5.1</td>\n",
       "      <td>3.5</td>\n",
       "      <td>1.4</td>\n",
       "      <td>0.2</td>\n",
       "      <td>0</td>\n",
       "    </tr>\n",
       "    <tr>\n",
       "      <th>1</th>\n",
       "      <td>4.9</td>\n",
       "      <td>3.0</td>\n",
       "      <td>1.4</td>\n",
       "      <td>0.2</td>\n",
       "      <td>0</td>\n",
       "    </tr>\n",
       "    <tr>\n",
       "      <th>2</th>\n",
       "      <td>4.7</td>\n",
       "      <td>3.2</td>\n",
       "      <td>1.3</td>\n",
       "      <td>0.2</td>\n",
       "      <td>0</td>\n",
       "    </tr>\n",
       "    <tr>\n",
       "      <th>3</th>\n",
       "      <td>4.6</td>\n",
       "      <td>3.1</td>\n",
       "      <td>1.5</td>\n",
       "      <td>0.2</td>\n",
       "      <td>0</td>\n",
       "    </tr>\n",
       "    <tr>\n",
       "      <th>4</th>\n",
       "      <td>5.0</td>\n",
       "      <td>3.6</td>\n",
       "      <td>1.4</td>\n",
       "      <td>0.2</td>\n",
       "      <td>0</td>\n",
       "    </tr>\n",
       "  </tbody>\n",
       "</table>\n",
       "</div>"
      ],
      "text/plain": [
       "   sepal length (cm)  sepal width (cm)  petal length (cm)  petal width (cm)  \\\n",
       "0                5.1               3.5                1.4               0.2   \n",
       "1                4.9               3.0                1.4               0.2   \n",
       "2                4.7               3.2                1.3               0.2   \n",
       "3                4.6               3.1                1.5               0.2   \n",
       "4                5.0               3.6                1.4               0.2   \n",
       "\n",
       "   class  \n",
       "0      0  \n",
       "1      0  \n",
       "2      0  \n",
       "3      0  \n",
       "4      0  "
      ]
     },
     "execution_count": 31,
     "metadata": {},
     "output_type": "execute_result"
    }
   ],
   "source": [
    "full_dataset.head()"
   ]
  },
  {
   "cell_type": "markdown",
   "metadata": {},
   "source": [
    "Trying a graph:"
   ]
  },
  {
   "cell_type": "code",
   "execution_count": 32,
   "metadata": {
    "ExecuteTime": {
     "end_time": "2022-12-29T17:53:22.894345Z",
     "start_time": "2022-12-29T17:53:22.806838Z"
    }
   },
   "outputs": [],
   "source": [
    "import plotly.express as px\n",
    "\n",
    "fig = px.scatter(full_dataset, x=\"sepal width (cm)\", y=\"sepal length (cm)\", \n",
    "                 size='petal length (cm)', hover_data=['petal width (cm)'], \n",
    "                 color='class')\n",
    "\n",
    "dash_app.layout = dcc.Graph(figure=fig)"
   ]
  },
  {
   "cell_type": "code",
   "execution_count": 34,
   "metadata": {
    "ExecuteTime": {
     "end_time": "2022-12-29T17:53:33.785288Z",
     "start_time": "2022-12-29T17:53:33.763653Z"
    }
   },
   "outputs": [
    {
     "data": {
      "text/html": [
       "\n",
       "        <iframe\n",
       "            width=\"100%\"\n",
       "            height=\"550\"\n",
       "            src=\"http://localhost:5000/\"\n",
       "            frameborder=\"0\"\n",
       "            allowfullscreen\n",
       "            \n",
       "        ></iframe>\n",
       "        "
      ],
      "text/plain": [
       "<IPython.lib.display.IFrame at 0x7ff352621bb0>"
      ]
     },
     "metadata": {},
     "output_type": "display_data"
    }
   ],
   "source": [
    "dash_app.run_server(mode=\"inline\", height=550, host=\"localhost\", port=5000)"
   ]
  },
  {
   "cell_type": "markdown",
   "metadata": {},
   "source": [
    "Great, so it looks like these can all be numeric inputs. One way we might implement numeric inputs would be using a text box, but let's use a Dash [Slider](https://dash.plotly.com/dash-core-components/slider) component instead. Sliders feel a bit more interactive, and they also let you set upper and lower bounds on what inputs the user can specify.\n",
    "\n",
    "A basic slider looks like this:"
   ]
  },
  {
   "cell_type": "code",
   "execution_count": 21,
   "metadata": {
    "ExecuteTime": {
     "end_time": "2022-12-29T17:13:58.383573Z",
     "start_time": "2022-12-29T17:13:58.377113Z"
    }
   },
   "outputs": [],
   "source": [
    "dash_app.layout = dcc.Slider(\n",
    "    min=0, # minimum value\n",
    "    max=10, # maximum value\n",
    "    value=3.1, # default value before the user changes anything\n",
    "    tooltip={\"always_visible\": True} # always display selected value\n",
    ")"
   ]
  },
  {
   "cell_type": "code",
   "execution_count": 22,
   "metadata": {
    "ExecuteTime": {
     "end_time": "2022-12-29T17:14:00.185396Z",
     "start_time": "2022-12-29T17:13:59.816532Z"
    }
   },
   "outputs": [
    {
     "data": {
      "text/html": [
       "\n",
       "        <iframe\n",
       "            width=\"100%\"\n",
       "            height=\"100\"\n",
       "            src=\"http://localhost:5000/\"\n",
       "            frameborder=\"0\"\n",
       "            allowfullscreen\n",
       "            \n",
       "        ></iframe>\n",
       "        "
      ],
      "text/plain": [
       "<IPython.lib.display.IFrame at 0x7f93a7f6ef70>"
      ]
     },
     "metadata": {},
     "output_type": "display_data"
    }
   ],
   "source": [
    "dash_app.run_server(mode=\"inline\", height=100, host=\"localhost\", port=5000)"
   ]
  },
  {
   "cell_type": "markdown",
   "metadata": {},
   "source": [
    "Let's make a set of four sliders, with ranges based on the four features:"
   ]
  },
  {
   "cell_type": "code",
   "execution_count": 23,
   "metadata": {
    "ExecuteTime": {
     "end_time": "2022-12-29T17:14:18.771796Z",
     "start_time": "2022-12-29T17:14:18.756475Z"
    }
   },
   "outputs": [],
   "source": [
    "def create_sliders(X):\n",
    "    slider_items = []\n",
    "    # loop over all of the columns in X\n",
    "    for column in X:\n",
    "        # make a label with the column name\n",
    "        label = html.H5(column)\n",
    "        \n",
    "        # get the minimum, maximum, and median values for the column\n",
    "        lower_bound = X[column].min()\n",
    "        upper_bound = X[column].max()\n",
    "        value = X[column].median()\n",
    "\n",
    "        # make a slider with the right values\n",
    "        slider = dcc.Slider(\n",
    "            min=lower_bound,\n",
    "            max=upper_bound,\n",
    "            value=value, # set median as default\n",
    "            marks=None,\n",
    "            tooltip={\"always_visible\": True},\n",
    "            id=column # set id based on column name\n",
    "        )\n",
    "\n",
    "        # make a list item with the label and the slider\n",
    "        item = dbc.ListGroupItem(children=[\n",
    "            label,\n",
    "            slider\n",
    "        ])\n",
    "        slider_items.append(item)\n",
    "    return dbc.ListGroup(slider_items)\n",
    "\n",
    "\n",
    "dash_app.layout = html.Div(children=[\n",
    "    create_sliders(X),\n",
    "    dbc.Alert(\"Prediction will go here\", color=\"info\", id=\"prediction-output\")\n",
    "]) "
   ]
  },
  {
   "cell_type": "code",
   "execution_count": 24,
   "metadata": {
    "ExecuteTime": {
     "end_time": "2022-12-29T17:14:20.245385Z",
     "start_time": "2022-12-29T17:14:20.221846Z"
    }
   },
   "outputs": [
    {
     "data": {
      "text/html": [
       "\n",
       "        <iframe\n",
       "            width=\"100%\"\n",
       "            height=\"450\"\n",
       "            src=\"http://localhost:5000/\"\n",
       "            frameborder=\"0\"\n",
       "            allowfullscreen\n",
       "            \n",
       "        ></iframe>\n",
       "        "
      ],
      "text/plain": [
       "<IPython.lib.display.IFrame at 0x7f93ac07a910>"
      ]
     },
     "metadata": {},
     "output_type": "display_data"
    }
   ],
   "source": [
    "dash_app.run_server(mode=\"inline\", height=450, host=\"localhost\", port=5000)"
   ]
  },
  {
   "cell_type": "markdown",
   "metadata": {},
   "source": [
    "Now let's add a callback so that the slider values are fed into the prediction function:"
   ]
  },
  {
   "cell_type": "code",
   "execution_count": 25,
   "metadata": {
    "ExecuteTime": {
     "end_time": "2022-12-29T17:15:03.894237Z",
     "start_time": "2022-12-29T17:15:03.884010Z"
    }
   },
   "outputs": [],
   "source": [
    "@dash_app.callback(\n",
    "    Output(\"prediction-output\", \"children\"),\n",
    "    [\n",
    "        # list comprehension to specify all of the input columns\n",
    "        Input(column, \"value\") for column in X.columns\n",
    "    ]\n",
    ")\n",
    "def generate_user_input_prediction(*args):\n",
    "    return f\"Predicted class: {iris_prediction(*args)['predicted_class']}\""
   ]
  },
  {
   "cell_type": "markdown",
   "metadata": {},
   "source": [
    "Try out the slider values to see if you can get the predicted class to change!"
   ]
  },
  {
   "cell_type": "code",
   "execution_count": 26,
   "metadata": {
    "ExecuteTime": {
     "end_time": "2022-12-29T17:15:06.484038Z",
     "start_time": "2022-12-29T17:15:06.114854Z"
    }
   },
   "outputs": [
    {
     "data": {
      "text/html": [
       "\n",
       "        <iframe\n",
       "            width=\"100%\"\n",
       "            height=\"450\"\n",
       "            src=\"http://localhost:5000/\"\n",
       "            frameborder=\"0\"\n",
       "            allowfullscreen\n",
       "            \n",
       "        ></iframe>\n",
       "        "
      ],
      "text/plain": [
       "<IPython.lib.display.IFrame at 0x7f93ac08f8b0>"
      ]
     },
     "metadata": {},
     "output_type": "display_data"
    }
   ],
   "source": [
    "dash_app.run_server(mode=\"inline\", height=450, host=\"localhost\", port=5000)"
   ]
  },
  {
   "cell_type": "markdown",
   "metadata": {},
   "source": [
    "Awesome, now we are making predictions on unseen data!\n",
    "\n",
    "To combine the two interfaces, let's make a set of Tab components ([documentation here](https://dash-bootstrap-components.opensource.faculty.ai/docs/components/tabs/)) so the user can switch between the table view and the form view.\n",
    "\n",
    "Here is a minimal version of our Tabs:"
   ]
  },
  {
   "cell_type": "code",
   "execution_count": 27,
   "metadata": {
    "ExecuteTime": {
     "end_time": "2022-12-29T17:15:51.784671Z",
     "start_time": "2022-12-29T17:15:51.777735Z"
    }
   },
   "outputs": [],
   "source": [
    "tabs = dbc.Tabs(children=[\n",
    "        dbc.Tab(dbc.Alert(\"Form will go here\", color=\"secondary\"), label=\"Generate Predictions on New Data\"),\n",
    "        dbc.Tab(dbc.Alert(\"Table will go here\", color=\"secondary\"), label=\"Analyze Performance on Past Data\")\n",
    "    ])\n",
    "\n",
    "dash_app.layout = html.Div(children=[\n",
    "    html.H1(\"Iris Classification Model\"),\n",
    "    tabs\n",
    "])"
   ]
  },
  {
   "cell_type": "markdown",
   "metadata": {},
   "source": [
    "Try clicking on the tab names to switch between them:"
   ]
  },
  {
   "cell_type": "code",
   "execution_count": 28,
   "metadata": {
    "ExecuteTime": {
     "end_time": "2022-12-29T17:15:53.992191Z",
     "start_time": "2022-12-29T17:15:53.619918Z"
    }
   },
   "outputs": [
    {
     "data": {
      "text/html": [
       "\n",
       "        <iframe\n",
       "            width=\"100%\"\n",
       "            height=\"200\"\n",
       "            src=\"http://localhost:5000/\"\n",
       "            frameborder=\"0\"\n",
       "            allowfullscreen\n",
       "            \n",
       "        ></iframe>\n",
       "        "
      ],
      "text/plain": [
       "<IPython.lib.display.IFrame at 0x7f93ac070070>"
      ]
     },
     "metadata": {},
     "output_type": "display_data"
    }
   ],
   "source": [
    "dash_app.run_server(mode=\"inline\", height=200, host=\"localhost\", port=5000)"
   ]
  },
  {
   "cell_type": "markdown",
   "metadata": {},
   "source": [
    "Now let's add the actual content to those tabs. Below is the full, final version of our Dash + Flask app:"
   ]
  },
  {
   "cell_type": "code",
   "execution_count": 40,
   "metadata": {
    "ExecuteTime": {
     "end_time": "2022-12-29T17:59:10.475733Z",
     "start_time": "2022-12-29T17:59:10.363685Z"
    }
   },
   "outputs": [],
   "source": [
    "########## IMPORTS ##########\n",
    "\n",
    "from flask import Flask, request\n",
    "import joblib\n",
    "import json\n",
    "\n",
    "from jupyter_dash import JupyterDash as Dash\n",
    "from dash import html, dcc, dash_table, Input, Output\n",
    "import dash_bootstrap_components as dbc\n",
    "\n",
    "import pandas as pd\n",
    "from sklearn.datasets import load_iris\n",
    "\n",
    "########## SETTING UP THE APPS ##########\n",
    "\n",
    "flask_app = Flask(__name__)\n",
    "external_stylesheets = [dbc.themes.BOOTSTRAP]\n",
    "dash_app = Dash(__name__, external_stylesheets=external_stylesheets, server=flask_app) #,requests_pathname_prefix='/dash/') ####\n",
    "\n",
    "########## HELPER FUNCTIONS ##########\n",
    "\n",
    "def create_sliders(X):\n",
    "    slider_items = []\n",
    "    for column in X:\n",
    "        label = html.H5(column)\n",
    "        \n",
    "        lower_bound = X[column].min()\n",
    "        upper_bound = X[column].max()\n",
    "        value = X[column].median()\n",
    "\n",
    "        slider = dcc.Slider(\n",
    "            min=lower_bound,\n",
    "            max=upper_bound,\n",
    "            value=value, # set median as default\n",
    "            marks=None,\n",
    "            tooltip={\"always_visible\": True},\n",
    "            id=column # set id based on column name\n",
    "        )\n",
    "\n",
    "        item = dbc.ListGroupItem(children=[\n",
    "            label,\n",
    "            slider\n",
    "        ])\n",
    "        slider_items.append(item)\n",
    "    return dbc.ListGroup(slider_items)\n",
    "\n",
    "def create_list_group(selected_row_data):\n",
    "    return dbc.ListGroup([\n",
    "        dbc.ListGroupItem(f\"{k}: {v}\") for k, v in selected_row_data.items()\n",
    "    ])\n",
    "\n",
    "def create_image_card(selected_row_data):\n",
    "    iris_class = selected_row_data[\"class\"]\n",
    "    if iris_class == 0:\n",
    "        name = \"Iris setosa \"\n",
    "        img_url = \"https://upload.wikimedia.org/wikipedia/commons/thumb/5/56/Kosaciec_szczecinkowaty_Iris_setosa.jpg/180px-Kosaciec_szczecinkowaty_Iris_setosa.jpg\"\n",
    "        img_source = \"https://commons.wikimedia.org/wiki/File:Kosaciec_szczecinkowaty_Iris_setosa.jpg\"\n",
    "    elif iris_class == 1:\n",
    "        name = \"Iris versicolor \"\n",
    "        img_url = \"https://upload.wikimedia.org/wikipedia/commons/thumb/4/41/Iris_versicolor_3.jpg/320px-Iris_versicolor_3.jpg\"\n",
    "        img_source = \"https://commons.wikimedia.org/wiki/File:Iris_versicolor_3.jpg\"\n",
    "    else:\n",
    "        name = \"Iris virginica \"\n",
    "        img_url = \"https://upload.wikimedia.org/wikipedia/commons/thumb/9/9f/Iris_virginica.jpg/295px-Iris_virginica.jpg\"\n",
    "        img_source = \"https://commons.wikimedia.org/wiki/File:Iris_virginica.jpg\"\n",
    "\n",
    "    return dbc.Card(children=[\n",
    "        dbc.CardImg(src=img_url),\n",
    "        dbc.CardBody(children=[\n",
    "            html.Em(name),\n",
    "            html.Small(html.A(\"(image source)\", href=img_source, target=\"blank_\"))\n",
    "        ])\n",
    "    ])\n",
    "\n",
    "def iris_prediction(sepal_length, sepal_width, petal_length, petal_width):\n",
    "    \"\"\"\n",
    "    Given sepal length, sepal width, petal length, and petal width,\n",
    "    predict the class of iris\n",
    "    \"\"\"\n",
    "    with open(\"model.pkl\", \"rb\") as f:\n",
    "        model = joblib.load(f)\n",
    "    X = [[sepal_length, sepal_width, petal_length, petal_width]]\n",
    "    predictions = model.predict(X)\n",
    "    # model.predict takes a list of records and returns a list of predictions\n",
    "    # but we are only making a single prediction\n",
    "    prediction = int(predictions[0])\n",
    "    return {\"predicted_class\": prediction}\n",
    "\n",
    "def check_prediction(selected_row_data):\n",
    "    \"\"\"\n",
    "    Return an Alert component with information about the model's prediction\n",
    "    vs. the true class value\n",
    "    \"\"\"\n",
    "    data_copy = selected_row_data.copy()\n",
    "    actual_class = data_copy.pop(\"class\")\n",
    "    # remove \" (cm)\" from labels\n",
    "    data_cleaned = {k.split(\" (cm)\")[0].replace(\" \", \"_\"):v for k, v in data_copy.items()}\n",
    "    result = iris_prediction(**data_cleaned)\n",
    "    predicted_class = result[\"predicted_class\"]\n",
    "    correct_prediction = predicted_class == actual_class\n",
    "    if correct_prediction:\n",
    "        color = \"success\"\n",
    "    else:\n",
    "        color = \"danger\"\n",
    "    return dbc.Alert(f\"Predicted class: {predicted_class}\", color=color)\n",
    "\n",
    "########## DECLARING LAYOUT COMPONENTS ##########\n",
    "\n",
    "data = load_iris()\n",
    "X = pd.DataFrame(data.data, columns=data.feature_names)\n",
    "y = pd.Series(data.target, name=\"class\")\n",
    "full_dataset = pd.concat([X, y], axis=1)\n",
    "fig = px.scatter(full_dataset, x=\"sepal width (cm)\", y=\"sepal length (cm)\", \n",
    "                 size='petal length (cm)', hover_data=['petal width (cm)'], \n",
    "                 color='class', title='Iris Features') ## NEW ##\n",
    "\n",
    "prediction_layout = html.Div(children=[\n",
    "    create_sliders(X),\n",
    "    dbc.Alert(\"Prediction will go here\", color=\"info\", id=\"prediction-output\")\n",
    "]) \n",
    "\n",
    "markdown = dcc.Markdown(\"\"\"\n",
    "## Iris Training Dataset\n",
    "\n",
    "Below is a DataTable showing a sample of 20 records from the\n",
    " [Iris Dataset](https://en.wikipedia.org/wiki/Iris_flower_data_set).\n",
    "\n",
    "Select any record to view more information!\n",
    "\"\"\")\n",
    "\n",
    "table = dash_table.DataTable(\n",
    "    data=full_dataset.sample(10, random_state=4).to_dict(orient=\"records\"),\n",
    "    row_selectable=\"single\",\n",
    "    cell_selectable=False,\n",
    "    id=\"tbl\"\n",
    ")\n",
    "\n",
    "modal = dbc.Modal(children=[\n",
    "    dbc.ModalHeader(dbc.ModalTitle(\"Iris Information\")),\n",
    "    dbc.ModalBody(id=\"modal-body\")\n",
    "],\n",
    "                  id=\"modal\",\n",
    "                  is_open=False\n",
    "                 )\n",
    "\n",
    "past_data_layout = html.Div(children=[\n",
    "    html.Div(markdown),\n",
    "    html.Div(table),\n",
    "    modal\n",
    "])\n",
    "\n",
    "graph_layout = dcc.Graph(figure=fig) ## NEW ##\n",
    "\n",
    "tabs = dbc.Tabs(children=[\n",
    "        dbc.Tab(prediction_layout, label=\"Generate Predictions on New Data\"),\n",
    "        dbc.Tab(past_data_layout, label=\"Analyze Performance on Past Data\"),\n",
    "        dbc.Tab(graph_layout, label=\"Past Data Visualization\") ## NEW ##\n",
    "    ])\n",
    "\n",
    "dash_app.layout = dbc.Container(children=[\n",
    "    html.H1(\"Iris Classification Model\"),\n",
    "    tabs\n",
    "])\n",
    "\n",
    "########## CALLBACKS ##########\n",
    "\n",
    "@dash_app.callback(\n",
    "    Output(\"prediction-output\", \"children\"),\n",
    "    [\n",
    "        # list comprehension to specify all of the input columns\n",
    "        Input(column, \"value\") for column in X.columns\n",
    "    ]\n",
    ")\n",
    "def generate_user_input_prediction(*args):\n",
    "    return f\"Predicted class: {iris_prediction(*args)['predicted_class']}\"\n",
    "\n",
    "@dash_app.callback(Output(\"modal\", \"is_open\"), Input(\"tbl\", \"selected_rows\"))\n",
    "def toggle_modal(selected_rows):\n",
    "    if selected_rows:\n",
    "        return True\n",
    "    else:\n",
    "        return False\n",
    "\n",
    "@dash_app.callback(\n",
    "    Output(\"modal-body\", \"children\"),\n",
    "    [Input(\"tbl\", \"derived_virtual_data\"), Input(\"tbl\", \"selected_rows\")])\n",
    "def render_information(rows, selected_rows):\n",
    "    if selected_rows:\n",
    "        # selection is set to \"single\" so there will be exactly 1 selected row\n",
    "        selected_row_data = rows[selected_rows[0]]      \n",
    "        return html.Div(dbc.Row(children=[\n",
    "            dbc.Col(create_image_card(selected_row_data)),\n",
    "            dbc.Col(children=[\n",
    "                create_list_group(selected_row_data),\n",
    "                html.Hr(),\n",
    "                check_prediction(selected_row_data)\n",
    "            ])\n",
    "        ]))\n",
    "\n",
    "########## ROUTES ##########\n",
    "\n",
    "@flask_app.route('/predict', methods=['POST'])\n",
    "def predict():\n",
    "    request_json = request.get_json()\n",
    "    result = iris_prediction(**request_json)\n",
    "    return json.dumps(result)\n"
   ]
  },
  {
   "cell_type": "code",
   "execution_count": 41,
   "metadata": {
    "ExecuteTime": {
     "end_time": "2022-12-29T17:59:15.009459Z",
     "start_time": "2022-12-29T17:59:14.644030Z"
    }
   },
   "outputs": [
    {
     "data": {
      "text/html": [
       "\n",
       "        <iframe\n",
       "            width=\"100%\"\n",
       "            height=\"550\"\n",
       "            src=\"http://localhost:5000/\"\n",
       "            frameborder=\"0\"\n",
       "            allowfullscreen\n",
       "            \n",
       "        ></iframe>\n",
       "        "
      ],
      "text/plain": [
       "<IPython.lib.display.IFrame at 0x7ff351969fd0>"
      ]
     },
     "metadata": {},
     "output_type": "display_data"
    }
   ],
   "source": [
    "#del dash_app.config._read_only[\"requests_pathname_prefix\"]\n",
    "dash_app.run_server(mode=\"inline\", height=550, host=\"localhost\", port=5000)"
   ]
  },
  {
   "cell_type": "markdown",
   "metadata": {},
   "source": [
    "Note that the API backend also still works!"
   ]
  },
  {
   "cell_type": "code",
   "execution_count": 42,
   "metadata": {
    "ExecuteTime": {
     "end_time": "2022-12-29T17:59:30.057684Z",
     "start_time": "2022-12-29T17:59:30.040032Z"
    }
   },
   "outputs": [
    {
     "data": {
      "text/plain": [
       "{'predicted_class': 0}"
      ]
     },
     "execution_count": 42,
     "metadata": {},
     "output_type": "execute_result"
    }
   ],
   "source": [
    "response = requests.post(\n",
    "    url=\"http://localhost:5000/predict\",\n",
    "    json={\"sepal_length\": 5.1, \"sepal_width\": 3.5, \"petal_length\": 1.4, \"petal_width\": 0.2}\n",
    ")\n",
    "response.json()"
   ]
  },
  {
   "cell_type": "markdown",
   "metadata": {},
   "source": [
    "## Deploying to Heroku\n",
    "\n",
    "Deploying our Dash app to Heroku is very similar to deploying our Flask app to Heroku. We'll need to:\n",
    "\n",
    "1. Install a **production server** and make sure we can successfully run our app locally via the command line\n",
    "2. Create our **requirements files** and push them to GitHub\n",
    "3. Create a new app through the **Heroku web interface** and connect it to our GitHub repo\n",
    "\n",
    "Let's get started!"
   ]
  },
  {
   "cell_type": "markdown",
   "metadata": {},
   "source": [
    "### Installing and Running a Production Server\n",
    "\n",
    "#### Installing Waitress\n",
    "\n",
    "Once again, we'll use a production-quality server called [Waitress](https://docs.pylonsproject.org/projects/waitress/en/latest/).\n",
    "\n",
    "In the terminal, make sure you have `dash-env` activated, then run:\n",
    "\n",
    "```bash\n",
    "pip install waitress==2.1.1\n",
    "```\n",
    "\n",
    "#### Organizing the Code into a `.py` File\n",
    "\n",
    "Waitress needs the code to be located in a `.py` file rather than directly within a Jupyter Notebook. We have already copied the above code into a file called `app.py`.\n",
    "\n",
    "Note that there is one small difference between the code above and the code in `app.py`: instead of importing `Dash` from the `jupyter_dash` library, we imported it directly from the `dash` library. In other words, instead of\n",
    "\n",
    "```python\n",
    "from jupyter_dash import JupyterDash as Dash\n",
    "```\n",
    "\n",
    "`app.py` has\n",
    "\n",
    "```python\n",
    "from dash import Dash\n",
    "```\n",
    "\n",
    "This is because when we're deploying the application, we don't want the version of Dash designed to run in a notebook, we want the standalone version. But otherwise the code is identical to the \"final version\" code shown in this notebook.\n",
    "\n",
    "#### Running the Production Server\n",
    "\n",
    "Run this command in the terminal:\n",
    "\n",
    "```bash\n",
    "waitress-serve --port=5000 app:flask_app\n",
    "```\n",
    "\n",
    "Note that this is very similar to our command when we were deploying our Flask app, which was `waitress-serve --port=5000 app:app`. The difference is that the Flask app inside of `app.py` had a variable name of `app`, whereas now it has the name `flask_app`.\n",
    "\n",
    "You should see an output like this:\n",
    "\n",
    "```\n",
    "INFO:waitress:Serving on http://0.0.0.0:5000\n",
    "```\n",
    "\n",
    "and you should be able to open up that link in your browser!\n",
    "\n",
    "Once you have confirmed that this works, go ahead and shut down the server using control-C."
   ]
  },
  {
   "cell_type": "markdown",
   "metadata": {},
   "source": [
    "### Requirements Files\n",
    "\n",
    "Again, this is very similar to when we deployed the Flask app. We just have a longer list of requirements, and our `Procfile` specifies that the app variable name is `flask_app` rather than app. These files have already been included in this repository.\n",
    "\n",
    "#### `runtime.txt`\n",
    "\n",
    "This is the same as when we deployed our Flask app. Remember that if you get an error related to the runtime, that means that the [supported runtimes list](https://devcenter.heroku.com/articles/python-support#supported-runtimes) has changed. Check that link to find the most up-to-date Python 3.8 runtime and edit `runtime.txt` accordingly.\n",
    "\n",
    "```\n",
    "python-3.8.13\n",
    "```\n",
    "\n",
    "#### `requirements.txt`\n",
    "\n",
    "Our previous `requirements.txt` looked like this:\n",
    "\n",
    "```\n",
    "Flask==2.0.3\n",
    "joblib==0.17.0\n",
    "scikit-learn==0.23.2\n",
    "waitress==2.1.1\n",
    "```\n",
    "\n",
    "Our new `requirements.txt` has those same items, with additional ones added:\n",
    "\n",
    "```\n",
    "Flask==2.0.3\n",
    "dash==2.3\n",
    "dash-bootstrap-components==1.0\n",
    "pandas==1.4\n",
    "joblib==0.17.0\n",
    "scikit-learn==0.23.2\n",
    "waitress==2.1.1\n",
    "```\n",
    "\n",
    "To explain further:\n",
    "\n",
    "* `dash` and `dash-bootstrap-components` have been added so that we can create layouts and callbacks with Dash\n",
    "* `pandas` has been added so that we can manipulate the dataset in preparation for displaying it in a table. If you just want your app to make predictions on unseen data, you won't need `pandas`.\n",
    "\n",
    "This is also slightly different from the `dash-env` requirements we installed earlier, because the deployed version of our app does not need `notebook` or `jupyter-dash` (or be tethered to a specific version of `Werkzeug`, which was needed at the time of this writing to make `jupyter-dash` work correctly).\n",
    "\n",
    "#### `Procfile`\n",
    "\n",
    "Our `Procfile` is also slightly different because our app variable name is different.\n",
    "\n",
    "Our previous `Procfile` looked like this:\n",
    "\n",
    "```\n",
    "web: waitress-serve --port=$PORT app:app\n",
    "```\n",
    "\n",
    "And our new one looks like this:\n",
    "\n",
    "```\n",
    "web: waitress-serve --port=$PORT app:flask_app\n",
    "```"
   ]
  },
  {
   "cell_type": "markdown",
   "metadata": {},
   "source": [
    "### Deploying the App on Heroku\n",
    "\n",
    "This is the same set of steps as before, but we'll include them here for convenience:\n",
    "\n",
    "1. Make sure you are **logged in** to Heroku. You can go to [https://dashboard.heroku.com/](https://dashboard.heroku.com/) and it will either show you your list of apps or redirect you to the login page.\n",
    "   * You should already have an account if you followed the steps from the Flask deployment lesson, but you can also create an account now.\n",
    "2. Go to [https://dashboard.heroku.com/new-app](https://dashboard.heroku.com/new-app) to make a new app on Heroku.\n",
    "3. Either fill in a name for your app then click **Create app**, or just click **Create app** if you want a name to be generated for you.\n",
    "4. Scroll down to **Deployment method** and choose **GitHub**.\n",
    "   * You should already be signed in with GitHub if you followed the steps from the Flask deployment lesson, but you can also approve the connection in the pop-up window now if you haven't previously.\n",
    "5. **Search** for the repository you want, then click **Connect** on the repository in the list of search results.\n",
    "6. Scroll down to **Manual deploy**, choose the appropriate branch, and click **Deploy Branch**.\n",
    "7. Wait for the app to build, then once you see the message \"Your app was successfully deployed\" click the **View** button to open up your Dash app!\n",
    "\n",
    "The interface should be much more interesting than the \"Hello, world!\" from your Flask app. You should also be able to make API requests (replace `base_url` with your actual Heroku app URL)."
   ]
  },
  {
   "cell_type": "code",
   "execution_count": 29,
   "metadata": {
    "ExecuteTime": {
     "end_time": "2022-12-29T01:49:32.334808Z",
     "start_time": "2022-12-29T01:49:31.666401Z"
    }
   },
   "outputs": [
    {
     "ename": "MissingSchema",
     "evalue": "Invalid URL '/predict': No scheme supplied. Perhaps you meant http:///predict?",
     "output_type": "error",
     "traceback": [
      "\u001b[0;31m---------------------------------------------------------------------------\u001b[0m",
      "\u001b[0;31mMissingSchema\u001b[0m                             Traceback (most recent call last)",
      "Cell \u001b[0;32mIn[29], line 3\u001b[0m\n\u001b[1;32m      1\u001b[0m \u001b[38;5;66;03m# base URL (ending with .herokuapp.com, no trailing /)\u001b[39;00m\n\u001b[1;32m      2\u001b[0m base_url \u001b[38;5;241m=\u001b[39m \u001b[38;5;124m\"\u001b[39m\u001b[38;5;124m\"\u001b[39m\n\u001b[0;32m----> 3\u001b[0m response \u001b[38;5;241m=\u001b[39m \u001b[43mrequests\u001b[49m\u001b[38;5;241;43m.\u001b[39;49m\u001b[43mpost\u001b[49m\u001b[43m(\u001b[49m\n\u001b[1;32m      4\u001b[0m \u001b[43m    \u001b[49m\u001b[43murl\u001b[49m\u001b[38;5;241;43m=\u001b[39;49m\u001b[38;5;124;43mf\u001b[39;49m\u001b[38;5;124;43m\"\u001b[39;49m\u001b[38;5;132;43;01m{\u001b[39;49;00m\u001b[43mbase_url\u001b[49m\u001b[38;5;132;43;01m}\u001b[39;49;00m\u001b[38;5;124;43m/predict\u001b[39;49m\u001b[38;5;124;43m\"\u001b[39;49m\u001b[43m,\u001b[49m\n\u001b[1;32m      5\u001b[0m \u001b[43m    \u001b[49m\u001b[43mjson\u001b[49m\u001b[38;5;241;43m=\u001b[39;49m\u001b[43m{\u001b[49m\u001b[38;5;124;43m\"\u001b[39;49m\u001b[38;5;124;43msepal_length\u001b[39;49m\u001b[38;5;124;43m\"\u001b[39;49m\u001b[43m:\u001b[49m\u001b[43m \u001b[49m\u001b[38;5;241;43m5.1\u001b[39;49m\u001b[43m,\u001b[49m\u001b[43m \u001b[49m\u001b[38;5;124;43m\"\u001b[39;49m\u001b[38;5;124;43msepal_width\u001b[39;49m\u001b[38;5;124;43m\"\u001b[39;49m\u001b[43m:\u001b[49m\u001b[43m \u001b[49m\u001b[38;5;241;43m3.5\u001b[39;49m\u001b[43m,\u001b[49m\u001b[43m \u001b[49m\u001b[38;5;124;43m\"\u001b[39;49m\u001b[38;5;124;43mpetal_length\u001b[39;49m\u001b[38;5;124;43m\"\u001b[39;49m\u001b[43m:\u001b[49m\u001b[43m \u001b[49m\u001b[38;5;241;43m1.4\u001b[39;49m\u001b[43m,\u001b[49m\u001b[43m \u001b[49m\u001b[38;5;124;43m\"\u001b[39;49m\u001b[38;5;124;43mpetal_width\u001b[39;49m\u001b[38;5;124;43m\"\u001b[39;49m\u001b[43m:\u001b[49m\u001b[43m \u001b[49m\u001b[38;5;241;43m0.2\u001b[39;49m\u001b[43m}\u001b[49m\n\u001b[1;32m      6\u001b[0m \u001b[43m)\u001b[49m\n\u001b[1;32m      7\u001b[0m response\u001b[38;5;241m.\u001b[39mjson()\n",
      "File \u001b[0;32m~/opt/anaconda3/envs/dash-env/lib/python3.8/site-packages/requests/api.py:115\u001b[0m, in \u001b[0;36mpost\u001b[0;34m(url, data, json, **kwargs)\u001b[0m\n\u001b[1;32m    103\u001b[0m \u001b[38;5;28;01mdef\u001b[39;00m \u001b[38;5;21mpost\u001b[39m(url, data\u001b[38;5;241m=\u001b[39m\u001b[38;5;28;01mNone\u001b[39;00m, json\u001b[38;5;241m=\u001b[39m\u001b[38;5;28;01mNone\u001b[39;00m, \u001b[38;5;241m*\u001b[39m\u001b[38;5;241m*\u001b[39mkwargs):\n\u001b[1;32m    104\u001b[0m     \u001b[38;5;124mr\u001b[39m\u001b[38;5;124;03m\"\"\"Sends a POST request.\u001b[39;00m\n\u001b[1;32m    105\u001b[0m \n\u001b[1;32m    106\u001b[0m \u001b[38;5;124;03m    :param url: URL for the new :class:`Request` object.\u001b[39;00m\n\u001b[0;32m   (...)\u001b[0m\n\u001b[1;32m    112\u001b[0m \u001b[38;5;124;03m    :rtype: requests.Response\u001b[39;00m\n\u001b[1;32m    113\u001b[0m \u001b[38;5;124;03m    \"\"\"\u001b[39;00m\n\u001b[0;32m--> 115\u001b[0m     \u001b[38;5;28;01mreturn\u001b[39;00m \u001b[43mrequest\u001b[49m\u001b[43m(\u001b[49m\u001b[38;5;124;43m\"\u001b[39;49m\u001b[38;5;124;43mpost\u001b[39;49m\u001b[38;5;124;43m\"\u001b[39;49m\u001b[43m,\u001b[49m\u001b[43m \u001b[49m\u001b[43murl\u001b[49m\u001b[43m,\u001b[49m\u001b[43m \u001b[49m\u001b[43mdata\u001b[49m\u001b[38;5;241;43m=\u001b[39;49m\u001b[43mdata\u001b[49m\u001b[43m,\u001b[49m\u001b[43m \u001b[49m\u001b[43mjson\u001b[49m\u001b[38;5;241;43m=\u001b[39;49m\u001b[43mjson\u001b[49m\u001b[43m,\u001b[49m\u001b[43m \u001b[49m\u001b[38;5;241;43m*\u001b[39;49m\u001b[38;5;241;43m*\u001b[39;49m\u001b[43mkwargs\u001b[49m\u001b[43m)\u001b[49m\n",
      "File \u001b[0;32m~/opt/anaconda3/envs/dash-env/lib/python3.8/site-packages/requests/api.py:59\u001b[0m, in \u001b[0;36mrequest\u001b[0;34m(method, url, **kwargs)\u001b[0m\n\u001b[1;32m     55\u001b[0m \u001b[38;5;66;03m# By using the 'with' statement we are sure the session is closed, thus we\u001b[39;00m\n\u001b[1;32m     56\u001b[0m \u001b[38;5;66;03m# avoid leaving sockets open which can trigger a ResourceWarning in some\u001b[39;00m\n\u001b[1;32m     57\u001b[0m \u001b[38;5;66;03m# cases, and look like a memory leak in others.\u001b[39;00m\n\u001b[1;32m     58\u001b[0m \u001b[38;5;28;01mwith\u001b[39;00m sessions\u001b[38;5;241m.\u001b[39mSession() \u001b[38;5;28;01mas\u001b[39;00m session:\n\u001b[0;32m---> 59\u001b[0m     \u001b[38;5;28;01mreturn\u001b[39;00m \u001b[43msession\u001b[49m\u001b[38;5;241;43m.\u001b[39;49m\u001b[43mrequest\u001b[49m\u001b[43m(\u001b[49m\u001b[43mmethod\u001b[49m\u001b[38;5;241;43m=\u001b[39;49m\u001b[43mmethod\u001b[49m\u001b[43m,\u001b[49m\u001b[43m \u001b[49m\u001b[43murl\u001b[49m\u001b[38;5;241;43m=\u001b[39;49m\u001b[43murl\u001b[49m\u001b[43m,\u001b[49m\u001b[43m \u001b[49m\u001b[38;5;241;43m*\u001b[39;49m\u001b[38;5;241;43m*\u001b[39;49m\u001b[43mkwargs\u001b[49m\u001b[43m)\u001b[49m\n",
      "File \u001b[0;32m~/opt/anaconda3/envs/dash-env/lib/python3.8/site-packages/requests/sessions.py:573\u001b[0m, in \u001b[0;36mSession.request\u001b[0;34m(self, method, url, params, data, headers, cookies, files, auth, timeout, allow_redirects, proxies, hooks, stream, verify, cert, json)\u001b[0m\n\u001b[1;32m    560\u001b[0m \u001b[38;5;66;03m# Create the Request.\u001b[39;00m\n\u001b[1;32m    561\u001b[0m req \u001b[38;5;241m=\u001b[39m Request(\n\u001b[1;32m    562\u001b[0m     method\u001b[38;5;241m=\u001b[39mmethod\u001b[38;5;241m.\u001b[39mupper(),\n\u001b[1;32m    563\u001b[0m     url\u001b[38;5;241m=\u001b[39murl,\n\u001b[0;32m   (...)\u001b[0m\n\u001b[1;32m    571\u001b[0m     hooks\u001b[38;5;241m=\u001b[39mhooks,\n\u001b[1;32m    572\u001b[0m )\n\u001b[0;32m--> 573\u001b[0m prep \u001b[38;5;241m=\u001b[39m \u001b[38;5;28;43mself\u001b[39;49m\u001b[38;5;241;43m.\u001b[39;49m\u001b[43mprepare_request\u001b[49m\u001b[43m(\u001b[49m\u001b[43mreq\u001b[49m\u001b[43m)\u001b[49m\n\u001b[1;32m    575\u001b[0m proxies \u001b[38;5;241m=\u001b[39m proxies \u001b[38;5;129;01mor\u001b[39;00m {}\n\u001b[1;32m    577\u001b[0m settings \u001b[38;5;241m=\u001b[39m \u001b[38;5;28mself\u001b[39m\u001b[38;5;241m.\u001b[39mmerge_environment_settings(\n\u001b[1;32m    578\u001b[0m     prep\u001b[38;5;241m.\u001b[39murl, proxies, stream, verify, cert\n\u001b[1;32m    579\u001b[0m )\n",
      "File \u001b[0;32m~/opt/anaconda3/envs/dash-env/lib/python3.8/site-packages/requests/sessions.py:484\u001b[0m, in \u001b[0;36mSession.prepare_request\u001b[0;34m(self, request)\u001b[0m\n\u001b[1;32m    481\u001b[0m     auth \u001b[38;5;241m=\u001b[39m get_netrc_auth(request\u001b[38;5;241m.\u001b[39murl)\n\u001b[1;32m    483\u001b[0m p \u001b[38;5;241m=\u001b[39m PreparedRequest()\n\u001b[0;32m--> 484\u001b[0m \u001b[43mp\u001b[49m\u001b[38;5;241;43m.\u001b[39;49m\u001b[43mprepare\u001b[49m\u001b[43m(\u001b[49m\n\u001b[1;32m    485\u001b[0m \u001b[43m    \u001b[49m\u001b[43mmethod\u001b[49m\u001b[38;5;241;43m=\u001b[39;49m\u001b[43mrequest\u001b[49m\u001b[38;5;241;43m.\u001b[39;49m\u001b[43mmethod\u001b[49m\u001b[38;5;241;43m.\u001b[39;49m\u001b[43mupper\u001b[49m\u001b[43m(\u001b[49m\u001b[43m)\u001b[49m\u001b[43m,\u001b[49m\n\u001b[1;32m    486\u001b[0m \u001b[43m    \u001b[49m\u001b[43murl\u001b[49m\u001b[38;5;241;43m=\u001b[39;49m\u001b[43mrequest\u001b[49m\u001b[38;5;241;43m.\u001b[39;49m\u001b[43murl\u001b[49m\u001b[43m,\u001b[49m\n\u001b[1;32m    487\u001b[0m \u001b[43m    \u001b[49m\u001b[43mfiles\u001b[49m\u001b[38;5;241;43m=\u001b[39;49m\u001b[43mrequest\u001b[49m\u001b[38;5;241;43m.\u001b[39;49m\u001b[43mfiles\u001b[49m\u001b[43m,\u001b[49m\n\u001b[1;32m    488\u001b[0m \u001b[43m    \u001b[49m\u001b[43mdata\u001b[49m\u001b[38;5;241;43m=\u001b[39;49m\u001b[43mrequest\u001b[49m\u001b[38;5;241;43m.\u001b[39;49m\u001b[43mdata\u001b[49m\u001b[43m,\u001b[49m\n\u001b[1;32m    489\u001b[0m \u001b[43m    \u001b[49m\u001b[43mjson\u001b[49m\u001b[38;5;241;43m=\u001b[39;49m\u001b[43mrequest\u001b[49m\u001b[38;5;241;43m.\u001b[39;49m\u001b[43mjson\u001b[49m\u001b[43m,\u001b[49m\n\u001b[1;32m    490\u001b[0m \u001b[43m    \u001b[49m\u001b[43mheaders\u001b[49m\u001b[38;5;241;43m=\u001b[39;49m\u001b[43mmerge_setting\u001b[49m\u001b[43m(\u001b[49m\n\u001b[1;32m    491\u001b[0m \u001b[43m        \u001b[49m\u001b[43mrequest\u001b[49m\u001b[38;5;241;43m.\u001b[39;49m\u001b[43mheaders\u001b[49m\u001b[43m,\u001b[49m\u001b[43m \u001b[49m\u001b[38;5;28;43mself\u001b[39;49m\u001b[38;5;241;43m.\u001b[39;49m\u001b[43mheaders\u001b[49m\u001b[43m,\u001b[49m\u001b[43m \u001b[49m\u001b[43mdict_class\u001b[49m\u001b[38;5;241;43m=\u001b[39;49m\u001b[43mCaseInsensitiveDict\u001b[49m\n\u001b[1;32m    492\u001b[0m \u001b[43m    \u001b[49m\u001b[43m)\u001b[49m\u001b[43m,\u001b[49m\n\u001b[1;32m    493\u001b[0m \u001b[43m    \u001b[49m\u001b[43mparams\u001b[49m\u001b[38;5;241;43m=\u001b[39;49m\u001b[43mmerge_setting\u001b[49m\u001b[43m(\u001b[49m\u001b[43mrequest\u001b[49m\u001b[38;5;241;43m.\u001b[39;49m\u001b[43mparams\u001b[49m\u001b[43m,\u001b[49m\u001b[43m \u001b[49m\u001b[38;5;28;43mself\u001b[39;49m\u001b[38;5;241;43m.\u001b[39;49m\u001b[43mparams\u001b[49m\u001b[43m)\u001b[49m\u001b[43m,\u001b[49m\n\u001b[1;32m    494\u001b[0m \u001b[43m    \u001b[49m\u001b[43mauth\u001b[49m\u001b[38;5;241;43m=\u001b[39;49m\u001b[43mmerge_setting\u001b[49m\u001b[43m(\u001b[49m\u001b[43mauth\u001b[49m\u001b[43m,\u001b[49m\u001b[43m \u001b[49m\u001b[38;5;28;43mself\u001b[39;49m\u001b[38;5;241;43m.\u001b[39;49m\u001b[43mauth\u001b[49m\u001b[43m)\u001b[49m\u001b[43m,\u001b[49m\n\u001b[1;32m    495\u001b[0m \u001b[43m    \u001b[49m\u001b[43mcookies\u001b[49m\u001b[38;5;241;43m=\u001b[39;49m\u001b[43mmerged_cookies\u001b[49m\u001b[43m,\u001b[49m\n\u001b[1;32m    496\u001b[0m \u001b[43m    \u001b[49m\u001b[43mhooks\u001b[49m\u001b[38;5;241;43m=\u001b[39;49m\u001b[43mmerge_hooks\u001b[49m\u001b[43m(\u001b[49m\u001b[43mrequest\u001b[49m\u001b[38;5;241;43m.\u001b[39;49m\u001b[43mhooks\u001b[49m\u001b[43m,\u001b[49m\u001b[43m \u001b[49m\u001b[38;5;28;43mself\u001b[39;49m\u001b[38;5;241;43m.\u001b[39;49m\u001b[43mhooks\u001b[49m\u001b[43m)\u001b[49m\u001b[43m,\u001b[49m\n\u001b[1;32m    497\u001b[0m \u001b[43m\u001b[49m\u001b[43m)\u001b[49m\n\u001b[1;32m    498\u001b[0m \u001b[38;5;28;01mreturn\u001b[39;00m p\n",
      "File \u001b[0;32m~/opt/anaconda3/envs/dash-env/lib/python3.8/site-packages/requests/models.py:368\u001b[0m, in \u001b[0;36mPreparedRequest.prepare\u001b[0;34m(self, method, url, headers, files, data, params, auth, cookies, hooks, json)\u001b[0m\n\u001b[1;32m    365\u001b[0m \u001b[38;5;124;03m\"\"\"Prepares the entire request with the given parameters.\"\"\"\u001b[39;00m\n\u001b[1;32m    367\u001b[0m \u001b[38;5;28mself\u001b[39m\u001b[38;5;241m.\u001b[39mprepare_method(method)\n\u001b[0;32m--> 368\u001b[0m \u001b[38;5;28;43mself\u001b[39;49m\u001b[38;5;241;43m.\u001b[39;49m\u001b[43mprepare_url\u001b[49m\u001b[43m(\u001b[49m\u001b[43murl\u001b[49m\u001b[43m,\u001b[49m\u001b[43m \u001b[49m\u001b[43mparams\u001b[49m\u001b[43m)\u001b[49m\n\u001b[1;32m    369\u001b[0m \u001b[38;5;28mself\u001b[39m\u001b[38;5;241m.\u001b[39mprepare_headers(headers)\n\u001b[1;32m    370\u001b[0m \u001b[38;5;28mself\u001b[39m\u001b[38;5;241m.\u001b[39mprepare_cookies(cookies)\n",
      "File \u001b[0;32m~/opt/anaconda3/envs/dash-env/lib/python3.8/site-packages/requests/models.py:439\u001b[0m, in \u001b[0;36mPreparedRequest.prepare_url\u001b[0;34m(self, url, params)\u001b[0m\n\u001b[1;32m    436\u001b[0m     \u001b[38;5;28;01mraise\u001b[39;00m InvalidURL(\u001b[38;5;241m*\u001b[39me\u001b[38;5;241m.\u001b[39margs)\n\u001b[1;32m    438\u001b[0m \u001b[38;5;28;01mif\u001b[39;00m \u001b[38;5;129;01mnot\u001b[39;00m scheme:\n\u001b[0;32m--> 439\u001b[0m     \u001b[38;5;28;01mraise\u001b[39;00m MissingSchema(\n\u001b[1;32m    440\u001b[0m         \u001b[38;5;124mf\u001b[39m\u001b[38;5;124m\"\u001b[39m\u001b[38;5;124mInvalid URL \u001b[39m\u001b[38;5;132;01m{\u001b[39;00murl\u001b[38;5;132;01m!r}\u001b[39;00m\u001b[38;5;124m: No scheme supplied. \u001b[39m\u001b[38;5;124m\"\u001b[39m\n\u001b[1;32m    441\u001b[0m         \u001b[38;5;124mf\u001b[39m\u001b[38;5;124m\"\u001b[39m\u001b[38;5;124mPerhaps you meant http://\u001b[39m\u001b[38;5;132;01m{\u001b[39;00murl\u001b[38;5;132;01m}\u001b[39;00m\u001b[38;5;124m?\u001b[39m\u001b[38;5;124m\"\u001b[39m\n\u001b[1;32m    442\u001b[0m     )\n\u001b[1;32m    444\u001b[0m \u001b[38;5;28;01mif\u001b[39;00m \u001b[38;5;129;01mnot\u001b[39;00m host:\n\u001b[1;32m    445\u001b[0m     \u001b[38;5;28;01mraise\u001b[39;00m InvalidURL(\u001b[38;5;124mf\u001b[39m\u001b[38;5;124m\"\u001b[39m\u001b[38;5;124mInvalid URL \u001b[39m\u001b[38;5;132;01m{\u001b[39;00murl\u001b[38;5;132;01m!r}\u001b[39;00m\u001b[38;5;124m: No host supplied\u001b[39m\u001b[38;5;124m\"\u001b[39m)\n",
      "\u001b[0;31mMissingSchema\u001b[0m: Invalid URL '/predict': No scheme supplied. Perhaps you meant http:///predict?"
     ]
    }
   ],
   "source": [
    "# base URL (ending with .herokuapp.com, no trailing /)\n",
    "base_url = \"\"\n",
    "response = requests.post(\n",
    "    url=f\"{base_url}/predict\",\n",
    "    json={\"sepal_length\": 5.1, \"sepal_width\": 3.5, \"petal_length\": 1.4, \"petal_width\": 0.2}\n",
    ")\n",
    "response.json()"
   ]
  },
  {
   "cell_type": "markdown",
   "metadata": {},
   "source": [
    "## Level Up\n",
    "\n",
    "Dash is created by Plotly, which also makes a well-known [Python graphing library](https://plotly.com/python/) that creates interactive graphs using Python. Check out the examples [here](https://dash.plotly.com/dash-core-components/graph) and try adding a visualization to your dashboard!\n",
    "\n",
    "In addition to being used as layout elements, Plotly graphs can be attached to callbacks in a Dash page. So, for example, the graph axis scale could change using a slider input, or a user could click on a point on a graph and send that to their model to make a prediction. Try it out for yourself!"
   ]
  },
  {
   "cell_type": "markdown",
   "metadata": {},
   "source": [
    "## Summary\n",
    "\n",
    "You have now learned how to combine Flask with Dash to build and deploy powerful dynamic web applications using machine learning. We can't wait to see what you'll make next!"
   ]
  }
 ],
 "metadata": {
  "kernelspec": {
   "display_name": "Python (dash-env)",
   "language": "python",
   "name": "dash-env"
  },
  "language_info": {
   "codemirror_mode": {
    "name": "ipython",
    "version": 3
   },
   "file_extension": ".py",
   "mimetype": "text/x-python",
   "name": "python",
   "nbconvert_exporter": "python",
   "pygments_lexer": "ipython3",
   "version": "3.8.12"
  },
  "toc": {
   "base_numbering": 1,
   "nav_menu": {},
   "number_sections": true,
   "sideBar": true,
   "skip_h1_title": false,
   "title_cell": "Table of Contents",
   "title_sidebar": "Contents",
   "toc_cell": false,
   "toc_position": {},
   "toc_section_display": true,
   "toc_window_display": false
  }
 },
 "nbformat": 4,
 "nbformat_minor": 4
}
